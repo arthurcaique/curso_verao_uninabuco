{
  "nbformat": 4,
  "nbformat_minor": 0,
  "metadata": {
    "colab": {
      "name": "sentiment_classifier.ipynb",
      "version": "0.3.2",
      "provenance": [],
      "include_colab_link": true
    },
    "kernelspec": {
      "name": "python3",
      "display_name": "Python 3"
    },
    "accelerator": "GPU"
  },
  "cells": [
    {
      "cell_type": "markdown",
      "metadata": {
        "id": "view-in-github",
        "colab_type": "text"
      },
      "source": [
        "<a href=\"https://colab.research.google.com/github/arthurcaique/curso_verao_uninabuco/blob/master/sentiment_classifier.ipynb\" target=\"_parent\"><img src=\"https://colab.research.google.com/assets/colab-badge.svg\" alt=\"Open In Colab\"/></a>"
      ]
    },
    {
      "metadata": {
        "id": "psK_S-qNKv5c",
        "colab_type": "code",
        "colab": {
          "base_uri": "https://localhost:8080/",
          "height": 108
        },
        "outputId": "621a5ded-4958-41af-bd06-307aa5d0c3fa"
      },
      "cell_type": "code",
      "source": [
        "from string import punctuation\n",
        "\n",
        "from pandas import read_csv\n",
        "from nltk.corpus import stopwords\n",
        "from nltk.tokenize import word_tokenize\n",
        "from nltk import download as nltk_downloader\n",
        "from sklearn.ensemble import RandomForestClassifier\n",
        "from sklearn.feature_extraction.text import TfidfVectorizer\n",
        "\n",
        "nltk_downloader('punkt')\n",
        "nltk_downloader('stopwords')"
      ],
      "execution_count": 97,
      "outputs": [
        {
          "output_type": "stream",
          "text": [
            "[nltk_data] Downloading package punkt to /root/nltk_data...\n",
            "[nltk_data]   Package punkt is already up-to-date!\n",
            "[nltk_data] Downloading package stopwords to /root/nltk_data...\n",
            "[nltk_data]   Unzipping corpora/stopwords.zip.\n"
          ],
          "name": "stdout"
        },
        {
          "output_type": "execute_result",
          "data": {
            "text/plain": [
              "True"
            ]
          },
          "metadata": {
            "tags": []
          },
          "execution_count": 97
        }
      ]
    },
    {
      "metadata": {
        "id": "v6DR95y3mr10",
        "colab_type": "code",
        "colab": {}
      },
      "cell_type": "code",
      "source": [
        "eng_stop_words = stopwords.words('english')"
      ],
      "execution_count": 0,
      "outputs": []
    },
    {
      "metadata": {
        "id": "w3vDc5I9ZTRM",
        "colab_type": "code",
        "colab": {}
      },
      "cell_type": "code",
      "source": [
        "def pre_process_text(text: str):\n",
        "  text = text.lower()\n",
        "  return ' '.join([token for token in word_tokenize(text) \n",
        "                   if token not in punctuation and token not in eng_stop_words]).strip()"
      ],
      "execution_count": 0,
      "outputs": []
    },
    {
      "metadata": {
        "id": "x7hBCS4aOxNl",
        "colab_type": "code",
        "colab": {
          "base_uri": "https://localhost:8080/",
          "height": 54
        },
        "outputId": "fdf6b30c-892d-4c13-fb76-d6b1bb858ab4"
      },
      "cell_type": "code",
      "source": [
        "train_df = read_csv('train.tsv', sep = '\\t', encoding='utf-8')\n",
        "print(train_df.shape)\n",
        "\n",
        "train_df.drop_duplicates(subset='SentenceId', keep='first', inplace=True)\n",
        "print(train_df.shape)\n",
        "\n",
        "train_df['Phrase'] = train_df['Phrase'].apply(\n",
        "    lambda phrase: pre_process_text(phrase))\n",
        "\n",
        "train_y = train_df['Sentiment'].values"
      ],
      "execution_count": 103,
      "outputs": [
        {
          "output_type": "stream",
          "text": [
            "(156060, 4)\n",
            "(8529, 4)\n"
          ],
          "name": "stdout"
        }
      ]
    },
    {
      "metadata": {
        "id": "p3PBoGhAiYN3",
        "colab_type": "code",
        "colab": {
          "base_uri": "https://localhost:8080/",
          "height": 54
        },
        "outputId": "5707320a-977d-4072-a9e4-0240f962f110"
      },
      "cell_type": "code",
      "source": [
        "test_df = read_csv('test.tsv', sep = '\\t', encoding='utf-8')\n",
        "print(test_df.shape)\n",
        "\n",
        "test_df.drop_duplicates(subset='SentenceId', keep='first', inplace=True)\n",
        "print(test_df.shape)\n",
        "\n",
        "test_df['Phrase'] = test_df['Phrase'].apply(\n",
        "    lambda phrase: pre_process_text(phrase))"
      ],
      "execution_count": 104,
      "outputs": [
        {
          "output_type": "stream",
          "text": [
            "(66292, 3)\n",
            "(3310, 3)\n"
          ],
          "name": "stdout"
        }
      ]
    },
    {
      "metadata": {
        "id": "fDhweUciSoll",
        "colab_type": "code",
        "colab": {}
      },
      "cell_type": "code",
      "source": [
        "train_df['Phrase'] = train_df['Phrase'].apply(\n",
        "    lambda phrase: pre_process_text(phrase))\n",
        "\n",
        "train_y = train_df['Sentiment'].values"
      ],
      "execution_count": 0,
      "outputs": []
    },
    {
      "metadata": {
        "id": "3bjop1NIWZGC",
        "colab_type": "code",
        "colab": {}
      },
      "cell_type": "code",
      "source": [
        "vectorizer = TfidfVectorizer()\n",
        "tf_idf_matrix = vectorizer.fit_transform(train_df['Phrase'].values)"
      ],
      "execution_count": 0,
      "outputs": []
    },
    {
      "metadata": {
        "id": "QzXiq5PEfz4k",
        "colab_type": "code",
        "colab": {}
      },
      "cell_type": "code",
      "source": [
        "rf_classifier = RandomForestClassifier(n_estimators=100)"
      ],
      "execution_count": 0,
      "outputs": []
    },
    {
      "metadata": {
        "id": "x-wV_GWmh7k6",
        "colab_type": "code",
        "colab": {
          "base_uri": "https://localhost:8080/",
          "height": 145
        },
        "outputId": "bf9e0c7c-00ff-4a3b-be61-f180802f87ea"
      },
      "cell_type": "code",
      "source": [
        "rf_classifier.fit(tf_idf_matrix, y)"
      ],
      "execution_count": 108,
      "outputs": [
        {
          "output_type": "execute_result",
          "data": {
            "text/plain": [
              "RandomForestClassifier(bootstrap=True, class_weight=None, criterion='gini',\n",
              "            max_depth=None, max_features='auto', max_leaf_nodes=None,\n",
              "            min_impurity_decrease=0.0, min_impurity_split=None,\n",
              "            min_samples_leaf=1, min_samples_split=2,\n",
              "            min_weight_fraction_leaf=0.0, n_estimators=100, n_jobs=None,\n",
              "            oob_score=False, random_state=None, verbose=0,\n",
              "            warm_start=False)"
            ]
          },
          "metadata": {
            "tags": []
          },
          "execution_count": 108
        }
      ]
    },
    {
      "metadata": {
        "id": "ppy_FyteiFsH",
        "colab_type": "code",
        "colab": {}
      },
      "cell_type": "code",
      "source": [
        "test_ = vectorizer.transform(test_df['Phrase'].values)"
      ],
      "execution_count": 0,
      "outputs": []
    },
    {
      "metadata": {
        "id": "HFXmtjd2jNWz",
        "colab_type": "code",
        "colab": {
          "base_uri": "https://localhost:8080/",
          "height": 35
        },
        "outputId": "7c9b9f4f-423d-4f8a-89a6-b237fb894e12"
      },
      "cell_type": "code",
      "source": [
        "rf_classifier.predict(test_)"
      ],
      "execution_count": 110,
      "outputs": [
        {
          "output_type": "execute_result",
          "data": {
            "text/plain": [
              "array([3, 3, 1, ..., 2, 1, 0])"
            ]
          },
          "metadata": {
            "tags": []
          },
          "execution_count": 110
        }
      ]
    }
  ]
}